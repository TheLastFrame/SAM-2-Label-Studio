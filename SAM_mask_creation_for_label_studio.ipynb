{
 "cells": [
  {
   "cell_type": "code",
   "execution_count": 1,
   "metadata": {},
   "outputs": [],
   "source": [
    "# !pip install -q git+https://github.com/huggingface/transformers.git"
   ]
  },
  {
   "cell_type": "code",
   "execution_count": null,
   "metadata": {},
   "outputs": [],
   "source": [
    "import numpy as np\n",
    "import matplotlib.pyplot as plt\n",
    "import gc\n",
    "from PIL import Image\n",
    "import transformers\n",
    "from transformers import pipeline\n",
    "from datetime import date\n",
    "import json\n",
    "import os\n",
    "from itertools import groupby\n",
    "from label_studio_converter import brush\n",
    "from label_studio_sdk import Client\n",
    "import torch\n",
    "\n",
    "\n",
    "LABEL_STUDIO_URL = 'http://127.0.0.1:8080'\n",
    "API_KEY = ''\n",
    "PROJECT_ID = 1\n",
    "\n",
    "\n",
    "def show_mask(mask, ax, random_color=False):\n",
    "    if random_color:\n",
    "        color = np.concatenate([np.random.random(3), np.array([0.6])], axis=0)\n",
    "    else:\n",
    "        color = np.array([30 / 255, 144 / 255, 255 / 255, 0.6])\n",
    "    h, w = mask.shape[-2:]\n",
    "    mask_image = mask.reshape(h, w, 1) * color.reshape(1, 1, -1)\n",
    "    ax.imshow(mask_image)\n",
    "    del mask\n",
    "    gc.collect()\n",
    "\n",
    "def show_masks_on_image(raw_image, masks):\n",
    "  plt.imshow(np.array(raw_image))\n",
    "  ax = plt.gca()\n",
    "  ax.set_autoscale_on(False)\n",
    "  for mask in masks:\n",
    "      show_mask(mask, ax=ax, random_color=True)\n",
    "  plt.axis(\"off\")\n",
    "  plt.show()\n",
    "  del mask\n",
    "  gc.collect()\n",
    "\n",
    "def extract_masks(files:list, generator):\n",
    "    # raw_image = Image.open(file).convert(\"RGB\")\n",
    "    outputs = generator([Image.open(file).convert(\"RGB\") for file in files], points_per_batch=32)\n",
    "    return outputs"
   ]
  },
  {
   "cell_type": "code",
   "execution_count": 3,
   "metadata": {},
   "outputs": [],
   "source": [
    "generator = pipeline(\"mask-generation\", model=\"facebook/sam-vit-huge\", device=0)"
   ]
  },
  {
   "cell_type": "code",
   "execution_count": 4,
   "metadata": {},
   "outputs": [
    {
     "name": "stdout",
     "output_type": "stream",
     "text": [
      "530\n"
     ]
    }
   ],
   "source": [
    "# Connect to the Label Studio API and check the connection\n",
    "ls = Client(url=LABEL_STUDIO_URL, api_key=API_KEY)\n",
    "ls.check_connection()\n",
    "\n",
    "#get the project\n",
    "project = ls.get_project(PROJECT_ID)\n",
    "\n",
    "#get all tasks for the project\n",
    "task_ids = project.get_tasks_ids()\n",
    "print(len(task_ids))"
   ]
  },
  {
   "cell_type": "code",
   "execution_count": 5,
   "metadata": {},
   "outputs": [],
   "source": [
    "# project.get_files_from_tasks([project.get_task(1)])"
   ]
  },
  {
   "cell_type": "code",
   "execution_count": 6,
   "metadata": {},
   "outputs": [],
   "source": [
    "# masks = extract_masks([project.get_files_from_tasks([project.get_task(task_id)])[0] for task_id in task_ids], generator)"
   ]
  },
  {
   "cell_type": "code",
   "execution_count": null,
   "metadata": {},
   "outputs": [],
   "source": [
    "for task_id in task_ids:\n",
    "\n",
    "#     import json\n",
    "# import base64\n",
    "\n",
    "# data = {}\n",
    "# with open('some.gif', mode='rb') as file:\n",
    "#     img = file.read()\n",
    "# data['img'] = base64.encodebytes(img).decode('utf-8')\n",
    "\n",
    "# print(json.dumps(data))\n",
    "\n",
    "    results= []\n",
    "    outputs = extract_masks([project.get_files_from_tasks([project.get_task(task_id)])[0]], generator)[0] #only works if label studio runs on the same device\n",
    "    torch.cuda.empty_cache()\n",
    "    for i in range(len(outputs['masks'])):\n",
    "        uniques, counts = np.unique(outputs['masks'][i], return_counts=True)\n",
    "        if counts[1] < 150:\n",
    "            continue\n",
    "        height, width = outputs['masks'][i].shape[:2]\n",
    "        # print(outputs['masks'][i].shape)\n",
    "        result = {\n",
    "                    \"original_width\": width,\n",
    "                    \"original_height\": height,\n",
    "                    \"image_rotation\": 0,\n",
    "                    \"value\": {\n",
    "                        \"format\": \"rle\"\n",
    "\n",
    "                    },\n",
    "                    \"id\": str(i),\n",
    "                    \"from_name\": \"tag\",\n",
    "                    \"to_name\": \"image\",\n",
    "                    \"type\": \"brushlabels\"\n",
    "                }\n",
    "\n",
    "        rle = brush.mask2rle(outputs['masks'][i]*np.uint8(255))\n",
    "\n",
    "        result['value']['rle'] = rle\n",
    "        results.append(result)\n",
    "    \n",
    "    project.create_prediction(task_id, result=results)\n"
   ]
  }
 ],
 "metadata": {
  "kernelspec": {
   "display_name": "huggingface-main",
   "language": "python",
   "name": "python3"
  },
  "language_info": {
   "codemirror_mode": {
    "name": "ipython",
    "version": 3
   },
   "file_extension": ".py",
   "mimetype": "text/x-python",
   "name": "python",
   "nbconvert_exporter": "python",
   "pygments_lexer": "ipython3",
   "version": "3.10.11"
  },
  "orig_nbformat": 4
 },
 "nbformat": 4,
 "nbformat_minor": 2
}
