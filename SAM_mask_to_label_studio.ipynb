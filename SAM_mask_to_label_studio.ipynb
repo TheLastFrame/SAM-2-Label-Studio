{
 "cells": [
  {
   "cell_type": "code",
   "execution_count": 21,
   "metadata": {},
   "outputs": [],
   "source": [
    "# !pip install -q git+https://github.com/huggingface/transformers.git"
   ]
  },
  {
   "cell_type": "code",
   "execution_count": 40,
   "metadata": {},
   "outputs": [],
   "source": [
    "import numpy as np\n",
    "import matplotlib.pyplot as plt\n",
    "import gc\n",
    "from PIL import Image\n",
    "import transformers\n",
    "from transformers import pipeline\n",
    "from datetime import date\n",
    "import json\n",
    "import os\n",
    "from itertools import groupby\n",
    "from label_studio_converter import brush\n",
    "\n",
    "\n",
    "path_to_folder = '../Pictures/data_for_training_filtered'\n",
    "output_folder = 'SAM_masks'\n",
    "\n",
    "\n",
    "def show_mask(mask, ax, random_color=False):\n",
    "    if random_color:\n",
    "        color = np.concatenate([np.random.random(3), np.array([0.6])], axis=0)\n",
    "    else:\n",
    "        color = np.array([30 / 255, 144 / 255, 255 / 255, 0.6])\n",
    "    h, w = mask.shape[-2:]\n",
    "    mask_image = mask.reshape(h, w, 1) * color.reshape(1, 1, -1)\n",
    "    ax.imshow(mask_image)\n",
    "    del mask\n",
    "    gc.collect()\n",
    "\n",
    "def show_masks_on_image(raw_image, masks):\n",
    "  plt.imshow(np.array(raw_image))\n",
    "  ax = plt.gca()\n",
    "  ax.set_autoscale_on(False)\n",
    "  for mask in masks:\n",
    "      show_mask(mask, ax=ax, random_color=True)\n",
    "  plt.axis(\"off\")\n",
    "  plt.show()\n",
    "  del mask\n",
    "  gc.collect()\n",
    "\n",
    "def extract_masks(file, generator):\n",
    "    raw_image = Image.open(file).convert(\"RGB\")\n",
    "    outputs = generator(raw_image, points_per_batch=64)\n",
    "    return outputs"
   ]
  },
  {
   "cell_type": "code",
   "execution_count": 23,
   "metadata": {},
   "outputs": [],
   "source": [
    "generator = pipeline(\"mask-generation\", model=\"facebook/sam-vit-huge\", device=0)"
   ]
  },
  {
   "cell_type": "code",
   "execution_count": 24,
   "metadata": {},
   "outputs": [],
   "source": [
    "fileList = os.listdir(path_to_folder)"
   ]
  },
  {
   "cell_type": "code",
   "execution_count": 49,
   "metadata": {},
   "outputs": [],
   "source": [
    "jsondata = []\n",
    "for file in fileList[:1]:\n",
    "    # print(file)\n",
    "    filedata = {\n",
    "        \"data\": {\n",
    "            \"image\": path_to_folder+'/'+file\n",
    "            },\n",
    "        \"predictions\": []\n",
    "    }\n",
    "\n",
    "#     import json\n",
    "# import base64\n",
    "\n",
    "# data = {}\n",
    "# with open('some.gif', mode='rb') as file:\n",
    "#     img = file.read()\n",
    "# data['img'] = base64.encodebytes(img).decode('utf-8')\n",
    "\n",
    "# print(json.dumps(data))\n",
    "\n",
    "\n",
    "    prediction = {\n",
    "            \"model_version\": date.today().isoformat()+'_'+transformers.__version__,\n",
    "            # \"score\": outputs['scores'][i],\n",
    "            \"result\": [\n",
    "                \n",
    "            ]\n",
    "        }\n",
    "    outputs = extract_masks(path_to_folder+'/'+file, generator)\n",
    "\n",
    "    for i in range(len(outputs['masks'])):\n",
    "        uniques, counts = np.unique(outputs['masks'][i], return_counts=True)\n",
    "        if counts[1] < 150:\n",
    "            continue\n",
    "        height, width = outputs['masks'][i].shape[:2]\n",
    "        # print(outputs['masks'][i].shape)\n",
    "        result = {\n",
    "                    \"original_width\": width,\n",
    "                    \"original_height\": height,\n",
    "                    \"image_rotation\": 0,\n",
    "                    \"value\": {\n",
    "                        \"format\": \"rle\"\n",
    "\n",
    "                    },\n",
    "                    \"id\": str(i),\n",
    "                    \"from_name\": \"tag\",\n",
    "                    \"to_name\": \"image\",\n",
    "                    \"type\": \"brushlabels\"\n",
    "                }\n",
    "\n",
    "        rle = brush.mask2rle(outputs['masks'][i]*np.uint8(255))\n",
    "\n",
    "        result['value']['rle'] = rle\n",
    "        prediction['result'].append(result)\n",
    "\n",
    "    filedata['predictions'].append(prediction)\n",
    "    jsondata.append(filedata)\n",
    "\n",
    "with open(\"labelstudio_annos.json\", \"w\") as json_file:\n",
    "    json.dump(jsondata, json_file)"
   ]
  },
  {
   "cell_type": "code",
   "execution_count": 27,
   "metadata": {},
   "outputs": [],
   "source": [
    "# show_masks_on_image(raw_image, masks)"
   ]
  }
 ],
 "metadata": {
  "kernelspec": {
   "display_name": "huggingface-main",
   "language": "python",
   "name": "python3"
  },
  "language_info": {
   "codemirror_mode": {
    "name": "ipython",
    "version": 3
   },
   "file_extension": ".py",
   "mimetype": "text/x-python",
   "name": "python",
   "nbconvert_exporter": "python",
   "pygments_lexer": "ipython3",
   "version": "3.10.11"
  },
  "orig_nbformat": 4
 },
 "nbformat": 4,
 "nbformat_minor": 2
}
